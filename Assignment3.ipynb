{
 "cells": [
  {
   "cell_type": "code",
   "execution_count": null,
   "metadata": {},
   "outputs": [],
   "source": [
    "QUESTION1:WRITE DOWN A PROGRAM IN PYTHON FOR OPENING A FILE AND WRITING \"I LOVE LETSUPGRADE\" AND CLOSE IT, AND READ IT BACK AGAIN, AND THEN APPEND SOME DATA TO IT AND CLOSE IT."
   ]
  },
  {
   "cell_type": "code",
   "execution_count": 4,
   "metadata": {},
   "outputs": [
    {
     "name": "stdout",
     "output_type": "stream",
     "text": [
      "I love LetsUpgrade\n",
      "I love LetsUpgrade hello everyone\n"
     ]
    }
   ],
   "source": [
    " f = open(\"demo.txt\",'w')\n",
    "f.write('I love LetsUpgrade')\n",
    "f.close()\n",
    "f=open(\"demo.txt\",'r')\n",
    "print(f.read())\n",
    "f=open(\"demo.txt\",'a')\n",
    "f.write(' hello everyone')\n",
    "f.close()\n",
    "f=open(\"demo.txt\",'r')\n",
    "print(f.read())\n",
    "\n",
    "\n"
   ]
  },
  {
   "cell_type": "markdown",
   "metadata": {},
   "source": [
    "QUESTION2:WRITE A FUNCTION WHICH CAN RETURN A FACTORIAL OF ANY NUMBERS AS INT, GIVEN IN THE ARGUMENT."
   ]
  },
  {
   "cell_type": "code",
   "execution_count": 5,
   "metadata": {},
   "outputs": [
    {
     "name": "stdout",
     "output_type": "stream",
     "text": [
      "enter number to find factorial4\n",
      "24\n"
     ]
    }
   ],
   "source": [
    "def factorial(num):\n",
    "    fact=1\n",
    "    \n",
    "    for i in range(1,num+1):\n",
    "        fact=fact*i\n",
    "    return fact\n",
    "\n",
    "number=int(input('enter number to find factorial'))\n",
    "result=factorial(number)\n",
    "\n",
    "print(result)"
   ]
  },
  {
   "cell_type": "code",
   "execution_count": null,
   "metadata": {},
   "outputs": [],
   "source": []
  }
 ],
 "metadata": {
  "kernelspec": {
   "display_name": "Python 3",
   "language": "python",
   "name": "python3"
  },
  "language_info": {
   "codemirror_mode": {
    "name": "ipython",
    "version": 3
   },
   "file_extension": ".py",
   "mimetype": "text/x-python",
   "name": "python",
   "nbconvert_exporter": "python",
   "pygments_lexer": "ipython3",
   "version": "3.8.5"
  }
 },
 "nbformat": 4,
 "nbformat_minor": 4
}
